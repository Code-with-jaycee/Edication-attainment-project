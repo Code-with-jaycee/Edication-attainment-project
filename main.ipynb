{
 "cells": [
  {
   "cell_type": "markdown",
   "metadata": {},
   "source": [
    "Imports"
   ]
  },
  {
   "cell_type": "code",
   "execution_count": 1,
   "metadata": {},
   "outputs": [],
   "source": [
    "#imports\n",
    "import pandas as pd\n"
   ]
  },
  {
   "cell_type": "markdown",
   "metadata": {},
   "source": [
    "a. Read this data into Python Pandas."
   ]
  },
  {
   "cell_type": "code",
   "execution_count": 16,
   "metadata": {},
   "outputs": [
    {
     "data": {
      "text/html": [
       "<div>\n",
       "<style scoped>\n",
       "    .dataframe tbody tr th:only-of-type {\n",
       "        vertical-align: middle;\n",
       "    }\n",
       "\n",
       "    .dataframe tbody tr th {\n",
       "        vertical-align: top;\n",
       "    }\n",
       "\n",
       "    .dataframe thead th {\n",
       "        text-align: right;\n",
       "    }\n",
       "</style>\n",
       "<table border=\"1\" class=\"dataframe\">\n",
       "  <thead>\n",
       "    <tr style=\"text-align: right;\">\n",
       "      <th></th>\n",
       "      <th>Year</th>\n",
       "      <th>Sex</th>\n",
       "      <th>Min degree</th>\n",
       "      <th>total</th>\n",
       "      <th>White</th>\n",
       "      <th>Black</th>\n",
       "      <th>Hispanic</th>\n",
       "      <th>Asian</th>\n",
       "      <th>Pacific Islander</th>\n",
       "      <th>American Indian/Alaska Native</th>\n",
       "      <th>Two or more races</th>\n",
       "    </tr>\n",
       "  </thead>\n",
       "  <tbody>\n",
       "    <tr>\n",
       "      <th>0</th>\n",
       "      <td>1920.0</td>\n",
       "      <td>A</td>\n",
       "      <td>high school</td>\n",
       "      <td>---</td>\n",
       "      <td>22.0</td>\n",
       "      <td>6.3</td>\n",
       "      <td>---</td>\n",
       "      <td>---</td>\n",
       "      <td>---</td>\n",
       "      <td>---</td>\n",
       "      <td>---</td>\n",
       "    </tr>\n",
       "    <tr>\n",
       "      <th>1</th>\n",
       "      <td>1940.0</td>\n",
       "      <td>A</td>\n",
       "      <td>high school</td>\n",
       "      <td>38.1</td>\n",
       "      <td>41.2</td>\n",
       "      <td>12.3</td>\n",
       "      <td>---</td>\n",
       "      <td>---</td>\n",
       "      <td>---</td>\n",
       "      <td>---</td>\n",
       "      <td>---</td>\n",
       "    </tr>\n",
       "    <tr>\n",
       "      <th>2</th>\n",
       "      <td>1950.0</td>\n",
       "      <td>A</td>\n",
       "      <td>high school</td>\n",
       "      <td>52.8</td>\n",
       "      <td>56.3</td>\n",
       "      <td>23.6</td>\n",
       "      <td>---</td>\n",
       "      <td>---</td>\n",
       "      <td>---</td>\n",
       "      <td>---</td>\n",
       "      <td>---</td>\n",
       "    </tr>\n",
       "    <tr>\n",
       "      <th>3</th>\n",
       "      <td>1960.0</td>\n",
       "      <td>A</td>\n",
       "      <td>high school</td>\n",
       "      <td>60.7</td>\n",
       "      <td>63.7</td>\n",
       "      <td>38.6</td>\n",
       "      <td>---</td>\n",
       "      <td>---</td>\n",
       "      <td>---</td>\n",
       "      <td>---</td>\n",
       "      <td>---</td>\n",
       "    </tr>\n",
       "    <tr>\n",
       "      <th>4</th>\n",
       "      <td>1970.0</td>\n",
       "      <td>A</td>\n",
       "      <td>high school</td>\n",
       "      <td>75.4</td>\n",
       "      <td>77.8</td>\n",
       "      <td>58.4</td>\n",
       "      <td>---</td>\n",
       "      <td>---</td>\n",
       "      <td>---</td>\n",
       "      <td>---</td>\n",
       "      <td>---</td>\n",
       "    </tr>\n",
       "    <tr>\n",
       "      <th>...</th>\n",
       "      <td>...</td>\n",
       "      <td>...</td>\n",
       "      <td>...</td>\n",
       "      <td>...</td>\n",
       "      <td>...</td>\n",
       "      <td>...</td>\n",
       "      <td>...</td>\n",
       "      <td>...</td>\n",
       "      <td>...</td>\n",
       "      <td>...</td>\n",
       "      <td>...</td>\n",
       "    </tr>\n",
       "    <tr>\n",
       "      <th>211</th>\n",
       "      <td>2016.0</td>\n",
       "      <td>F</td>\n",
       "      <td>master's</td>\n",
       "      <td>11.2</td>\n",
       "      <td>12.3</td>\n",
       "      <td>6.3</td>\n",
       "      <td>6.3</td>\n",
       "      <td>28.8</td>\n",
       "      <td>---</td>\n",
       "      <td>---</td>\n",
       "      <td>8.2</td>\n",
       "    </tr>\n",
       "    <tr>\n",
       "      <th>212</th>\n",
       "      <td>2017.0</td>\n",
       "      <td>F</td>\n",
       "      <td>master's</td>\n",
       "      <td>10.5</td>\n",
       "      <td>11.8</td>\n",
       "      <td>6.8</td>\n",
       "      <td>5</td>\n",
       "      <td>25.8</td>\n",
       "      <td>---</td>\n",
       "      <td>---</td>\n",
       "      <td>5.4</td>\n",
       "    </tr>\n",
       "    <tr>\n",
       "      <th>213</th>\n",
       "      <td>2018.0</td>\n",
       "      <td>F</td>\n",
       "      <td>master's</td>\n",
       "      <td>10.7</td>\n",
       "      <td>12.6</td>\n",
       "      <td>6.2</td>\n",
       "      <td>3.8</td>\n",
       "      <td>29.9</td>\n",
       "      <td>---</td>\n",
       "      <td>---</td>\n",
       "      <td>---</td>\n",
       "    </tr>\n",
       "    <tr>\n",
       "      <th>214</th>\n",
       "      <td>NaN</td>\n",
       "      <td>NaN</td>\n",
       "      <td>NaN</td>\n",
       "      <td>NaN</td>\n",
       "      <td>NaN</td>\n",
       "      <td>NaN</td>\n",
       "      <td>NaN</td>\n",
       "      <td>NaN</td>\n",
       "      <td>NaN</td>\n",
       "      <td>NaN</td>\n",
       "      <td>NaN</td>\n",
       "    </tr>\n",
       "    <tr>\n",
       "      <th>215</th>\n",
       "      <td>6.0</td>\n",
       "      <td>NaN</td>\n",
       "      <td>NaN</td>\n",
       "      <td>NaN</td>\n",
       "      <td>NaN</td>\n",
       "      <td>NaN</td>\n",
       "      <td>NaN</td>\n",
       "      <td>NaN</td>\n",
       "      <td>NaN</td>\n",
       "      <td>NaN</td>\n",
       "      <td>NaN</td>\n",
       "    </tr>\n",
       "  </tbody>\n",
       "</table>\n",
       "<p>216 rows × 11 columns</p>\n",
       "</div>"
      ],
      "text/plain": [
       "       Year  Sex   Min degree total  White  Black Hispanic Asian  \\\n",
       "0    1920.0    A  high school   ---   22.0    6.3      ---   ---   \n",
       "1    1940.0    A  high school  38.1   41.2   12.3      ---   ---   \n",
       "2    1950.0    A  high school  52.8   56.3   23.6      ---   ---   \n",
       "3    1960.0    A  high school  60.7   63.7   38.6      ---   ---   \n",
       "4    1970.0    A  high school  75.4   77.8   58.4      ---   ---   \n",
       "..      ...  ...          ...   ...    ...    ...      ...   ...   \n",
       "211  2016.0    F     master's  11.2   12.3    6.3      6.3  28.8   \n",
       "212  2017.0    F     master's  10.5   11.8    6.8        5  25.8   \n",
       "213  2018.0    F     master's  10.7   12.6    6.2      3.8  29.9   \n",
       "214     NaN  NaN          NaN   NaN    NaN    NaN      NaN   NaN   \n",
       "215     6.0  NaN          NaN   NaN    NaN    NaN      NaN   NaN   \n",
       "\n",
       "    Pacific Islander American Indian/Alaska Native Two or more races  \n",
       "0                ---                           ---               ---  \n",
       "1                ---                           ---               ---  \n",
       "2                ---                           ---               ---  \n",
       "3                ---                           ---               ---  \n",
       "4                ---                           ---               ---  \n",
       "..               ...                           ...               ...  \n",
       "211              ---                           ---               8.2  \n",
       "212              ---                           ---               5.4  \n",
       "213              ---                           ---               ---  \n",
       "214              NaN                           NaN               NaN  \n",
       "215              NaN                           NaN               NaN  \n",
       "\n",
       "[216 rows x 11 columns]"
      ]
     },
     "execution_count": 16,
     "metadata": {},
     "output_type": "execute_result"
    }
   ],
   "source": [
    "Education_data = pd.read_csv(\"Education_attainment.csv\")\n",
    "Education_data\n"
   ]
  },
  {
   "cell_type": "code",
   "execution_count": 48,
   "metadata": {},
   "outputs": [
    {
     "data": {
      "text/plain": [
       "Year                             float64\n",
       "Sex                               object\n",
       "Min degree                        object\n",
       "total                             object\n",
       "White                            float64\n",
       "Black                            float64\n",
       "Hispanic                          object\n",
       "Asian                             object\n",
       "Pacific Islander                  object\n",
       "American Indian/Alaska Native     object\n",
       "Two or more races                 object\n",
       "dtype: object"
      ]
     },
     "execution_count": 48,
     "metadata": {},
     "output_type": "execute_result"
    }
   ],
   "source": [
    "Education_data.dtypes"
   ]
  },
  {
   "cell_type": "markdown",
   "metadata": {},
   "source": [
    "b. Determine the percentages for women vs. men having earned a Bachelor's Degree in 1980. "
   ]
  },
  {
   "cell_type": "code",
   "execution_count": 39,
   "metadata": {},
   "outputs": [
    {
     "name": "stdout",
     "output_type": "stream",
     "text": [
      "Percentages for Women vs Men = 50.0%\n"
     ]
    }
   ],
   "source": [
    "Women = len(Education_data[\n",
    "        (Education_data[\"Sex\"] == \"F\" ) &\n",
    "        (Education_data[\"Year\"] == 1980) \n",
    "       \n",
    "        ]\n",
    ")\n",
    "Men = len(Education_data[\n",
    "    (Education_data[\"Sex\"] == \"M\") &\n",
    "    (Education_data[\"Year\"] == 1980) \n",
    "    \n",
    "])\n",
    "Percentage = Women/(Women + Men) * 100\n",
    "\n",
    "print(f\"Percentages for Women vs Men = {Percentage}%\")\n"
   ]
  },
  {
   "cell_type": "markdown",
   "metadata": {},
   "source": [
    "c. Analyze the data for the two most commonly awarded levels of educational attainment awarded between 2000-2010 inclusive)."
   ]
  },
  {
   "cell_type": "code",
   "execution_count": 64,
   "metadata": {},
   "outputs": [
    {
     "data": {
      "text/plain": [
       "high school    21\n",
       "associate's    21\n",
       "bachelor's     21\n",
       "master's       21\n",
       "Name: Min degree, dtype: int64"
      ]
     },
     "execution_count": 64,
     "metadata": {},
     "output_type": "execute_result"
    }
   ],
   "source": [
    "\n",
    "Education_Award= Education_data[\n",
    "      \n",
    "        (Education_data[\"Year\"] >= 2000) &\n",
    "        (Education_data[\"Year\"]<= 2010)\n",
    "        \n",
    "    ]\n",
    "\n",
    "Education_Award[\"Min degree\"].value_counts()\n"
   ]
  },
  {
   "cell_type": "markdown",
   "metadata": {},
   "source": [
    "Compare the difference between total percent of bachelor's degrees received in 2000 to those in 2010."
   ]
  },
  {
   "cell_type": "code",
   "execution_count": 77,
   "metadata": {},
   "outputs": [
    {
     "name": "stdout",
     "output_type": "stream",
     "text": [
      "Difference: 0.0\n"
     ]
    }
   ],
   "source": [
    "Bachelor_degree_2000 = len(Education_Award[\n",
    "        (Education_Award[\"Min degree\"] == \"bachelor's\") &\n",
    "        (Education_Award[\"Year\"] == 2000)\n",
    "        ])\n",
    "\n",
    "Bachelor_degree_2010 = len(Education_Award[\n",
    "            (Education_Award[\"Min degree\"] == \"bachelor's\")&\n",
    "            (Education_Award[\"Year\"] == 2010)\n",
    "\n",
    "\n",
    "])\n",
    "\n",
    "Total = len(Education_Award[Education_Award[\"Min degree\"]== \"bachelor's\"])\n",
    "Total_Bach_degree_Perc = (Bachelor_degree_2000/Total *100) - (Bachelor_degree_2010/Total * 100)\n",
    "\n",
    "print(f\"Difference: {Total_Bach_degree_Perc}\")\n",
    "\n",
    "# print(f\"2010 : {Bachelor_degree_2010}\")\n",
    "\n"
   ]
  },
  {
   "cell_type": "markdown",
   "metadata": {},
   "source": [
    "e. Derive descriptive statistics for this data-set"
   ]
  },
  {
   "cell_type": "code",
   "execution_count": 80,
   "metadata": {},
   "outputs": [
    {
     "data": {
      "text/html": [
       "<div>\n",
       "<style scoped>\n",
       "    .dataframe tbody tr th:only-of-type {\n",
       "        vertical-align: middle;\n",
       "    }\n",
       "\n",
       "    .dataframe tbody tr th {\n",
       "        vertical-align: top;\n",
       "    }\n",
       "\n",
       "    .dataframe thead th {\n",
       "        text-align: right;\n",
       "    }\n",
       "</style>\n",
       "<table border=\"1\" class=\"dataframe\">\n",
       "  <thead>\n",
       "    <tr style=\"text-align: right;\">\n",
       "      <th></th>\n",
       "      <th>Year</th>\n",
       "      <th>White</th>\n",
       "      <th>Black</th>\n",
       "    </tr>\n",
       "  </thead>\n",
       "  <tbody>\n",
       "    <tr>\n",
       "      <th>count</th>\n",
       "      <td>84.000000</td>\n",
       "      <td>84.000000</td>\n",
       "      <td>84.000000</td>\n",
       "    </tr>\n",
       "    <tr>\n",
       "      <th>mean</th>\n",
       "      <td>2006.428571</td>\n",
       "      <td>45.828571</td>\n",
       "      <td>34.280952</td>\n",
       "    </tr>\n",
       "    <tr>\n",
       "      <th>std</th>\n",
       "      <td>3.082347</td>\n",
       "      <td>31.381913</td>\n",
       "      <td>32.202235</td>\n",
       "    </tr>\n",
       "    <tr>\n",
       "      <th>min</th>\n",
       "      <td>2000.000000</td>\n",
       "      <td>4.900000</td>\n",
       "      <td>1.100000</td>\n",
       "    </tr>\n",
       "    <tr>\n",
       "      <th>25%</th>\n",
       "      <td>2005.000000</td>\n",
       "      <td>25.625000</td>\n",
       "      <td>12.200000</td>\n",
       "    </tr>\n",
       "    <tr>\n",
       "      <th>50%</th>\n",
       "      <td>2007.000000</td>\n",
       "      <td>41.150000</td>\n",
       "      <td>22.250000</td>\n",
       "    </tr>\n",
       "    <tr>\n",
       "      <th>75%</th>\n",
       "      <td>2009.000000</td>\n",
       "      <td>63.075000</td>\n",
       "      <td>47.450000</td>\n",
       "    </tr>\n",
       "    <tr>\n",
       "      <th>max</th>\n",
       "      <td>2010.000000</td>\n",
       "      <td>95.200000</td>\n",
       "      <td>91.100000</td>\n",
       "    </tr>\n",
       "  </tbody>\n",
       "</table>\n",
       "</div>"
      ],
      "text/plain": [
       "              Year      White      Black\n",
       "count    84.000000  84.000000  84.000000\n",
       "mean   2006.428571  45.828571  34.280952\n",
       "std       3.082347  31.381913  32.202235\n",
       "min    2000.000000   4.900000   1.100000\n",
       "25%    2005.000000  25.625000  12.200000\n",
       "50%    2007.000000  41.150000  22.250000\n",
       "75%    2009.000000  63.075000  47.450000\n",
       "max    2010.000000  95.200000  91.100000"
      ]
     },
     "execution_count": 80,
     "metadata": {},
     "output_type": "execute_result"
    }
   ],
   "source": [
    "Education_Award.describe()"
   ]
  }
 ],
 "metadata": {
  "kernelspec": {
   "display_name": "Python 3.10.4 64-bit",
   "language": "python",
   "name": "python3"
  },
  "language_info": {
   "codemirror_mode": {
    "name": "ipython",
    "version": 3
   },
   "file_extension": ".py",
   "mimetype": "text/x-python",
   "name": "python",
   "nbconvert_exporter": "python",
   "pygments_lexer": "ipython3",
   "version": "3.10.4"
  },
  "orig_nbformat": 4,
  "vscode": {
   "interpreter": {
    "hash": "9d9d2c98217b744f41fccc322f7c963e9592791b03244918fc2389927e628273"
   }
  }
 },
 "nbformat": 4,
 "nbformat_minor": 2
}
